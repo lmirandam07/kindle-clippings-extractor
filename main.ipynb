{
 "cells": [
  {
   "cell_type": "code",
   "execution_count": 6,
   "metadata": {},
   "outputs": [],
   "source": [
    "import re\n",
    "import pandas as pd\n",
    "import streamlit as st\n",
    "import base64\n",
    "from collections import namedtuple\n",
    "from io import BytesIO"
   ]
  },
  {
   "cell_type": "code",
   "execution_count": 7,
   "metadata": {},
   "outputs": [],
   "source": [
    "# Define the pattern for each element we want to extract\n",
    "book_pattern = re.compile(r\"^(.*?)\\((.*?)\\)$\")\n",
    "highlight_pattern = re.compile(\n",
    "    r\"- Your Highlight on page (\\d+) \\| Location (\\d+-\\d+) \\| Added on (.*?)\\n\"\n",
    ")\n",
    "\n",
    "# Define a namedtuple to hold the information for a single clipping\n",
    "Clipping = namedtuple(\n",
    "    \"Clipping\", [\"title\", \"author\", \"page\", \"location\", \"added_on\", \"highlight\"]\n",
    ")\n",
    "\n",
    "\n",
    "def parse_book_info(line):\n",
    "    \"\"\"Parse the book title and author from a line.\"\"\"\n",
    "    match = book_pattern.match(line)\n",
    "    if match:\n",
    "        return match.group(1).strip(), match.group(2).strip()\n",
    "\n",
    "\n",
    "def parse_highlight_info(line):\n",
    "    \"\"\"Parse the page, location, and date from a line.\"\"\"\n",
    "    match = highlight_pattern.match(line)\n",
    "    if match:\n",
    "        return int(match.group(1)), match.group(2), pd.to_datetime(match.group(3))\n",
    "\n",
    "\n",
    "def parse_clipping(file):\n",
    "    \"\"\"Read and parse a single clipping from the file.\"\"\"\n",
    "    try:\n",
    "        book_info = parse_book_info(next(file))\n",
    "        highlight_info = parse_highlight_info(next(file))\n",
    "        next(file)  # Skip the blank line\n",
    "        highlight_text = next(file).strip()\n",
    "        next(file)  # Skip the \"==========\" line\n",
    "\n",
    "        if book_info and highlight_info:\n",
    "            return Clipping(*book_info, *highlight_info, highlight_text)\n",
    "\n",
    "    except StopIteration:\n",
    "        # If we've reached the end of the file, return None\n",
    "        return None\n",
    "\n",
    "\n",
    "def main():\n",
    "    # Initialize a list to store the Clipping objects\n",
    "    clippings = []\n",
    "\n",
    "    # Open and iterate over the file\n",
    "    with open(\"./My Clippings.txt\", \"r\", encoding=\"utf-8\") as file:\n",
    "        while True:\n",
    "            clipping = parse_clipping(file)\n",
    "            if clipping is None:\n",
    "                break\n",
    "            clippings.append(clipping)\n",
    "            pprint(clippings)\n",
    "\n",
    "    # Create a DataFrame from the list of Clipping objects\n",
    "    df = pd.DataFrame(clippings)\n",
    "\n",
    "    return df\n",
    "\n",
    "\n",
    "if __name__ == \"__main__\":\n",
    "    df =   main()"
   ]
  },
  {
   "cell_type": "code",
   "execution_count": 11,
   "metadata": {},
   "outputs": [
    {
     "data": {
      "text/plain": [
       "<pandas.core.groupby.generic.DataFrameGroupBy object at 0x00000181292C13A0>"
      ]
     },
     "execution_count": 11,
     "metadata": {},
     "output_type": "execute_result"
    }
   ],
   "source": [
    "gb_df = df.groupby(['title'])\n",
    "gb_df.head()"
   ]
  }
 ],
 "metadata": {
  "kernelspec": {
   "display_name": "venv",
   "language": "python",
   "name": "python3"
  },
  "language_info": {
   "codemirror_mode": {
    "name": "ipython",
    "version": 3
   },
   "file_extension": ".py",
   "mimetype": "text/x-python",
   "name": "python",
   "nbconvert_exporter": "python",
   "pygments_lexer": "ipython3",
   "version": "3.9.6"
  },
  "orig_nbformat": 4
 },
 "nbformat": 4,
 "nbformat_minor": 2
}
